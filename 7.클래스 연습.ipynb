{
 "cells": [
  {
   "cell_type": "code",
   "execution_count": 3,
   "id": "c27d2239-e3e3-4f72-b21a-2aee3a33b9b5",
   "metadata": {},
   "outputs": [
    {
     "name": "stdout",
     "output_type": "stream",
     "text": [
      "aaaa\n"
     ]
    }
   ],
   "source": [
    "a='aaaa'\n",
    "print(a)\n"
   ]
  },
  {
   "cell_type": "code",
   "execution_count": null,
   "id": "bdb8d126",
   "metadata": {},
   "outputs": [],
   "source": []
  },
  {
   "cell_type": "raw",
   "id": "c3614e4e-8645-409f-9077-b651c3f07a54",
   "metadata": {},
   "source": [
    "bbb\n"
   ]
  },
  {
   "cell_type": "code",
   "execution_count": null,
   "id": "62f6c08a-71af-4986-9129-4eb927fa572e",
   "metadata": {},
   "outputs": [],
   "source": [
    "dd\n"
   ]
  },
  {
   "cell_type": "code",
   "execution_count": null,
   "id": "75123384-e06f-4a6f-9ee2-4be7f45c5f9c",
   "metadata": {},
   "outputs": [],
   "source": [
    "aaa\n"
   ]
  },
  {
   "cell_type": "code",
   "execution_count": null,
   "id": "a7adecfa-7126-4da0-82dc-f9341d366588",
   "metadata": {},
   "outputs": [],
   "source": []
  }
 ],
 "metadata": {
  "kernelspec": {
   "display_name": "py312tf2",
   "language": "python",
   "name": "python3"
  },
  "language_info": {
   "codemirror_mode": {
    "name": "ipython",
    "version": 3
   },
   "file_extension": ".py",
   "mimetype": "text/x-python",
   "name": "python",
   "nbconvert_exporter": "python",
   "pygments_lexer": "ipython3",
   "version": "3.12.9"
  }
 },
 "nbformat": 4,
 "nbformat_minor": 5
}
